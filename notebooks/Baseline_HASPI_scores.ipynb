{
 "cells": [
  {
   "cell_type": "markdown",
   "metadata": {
    "id": "4DPiB7WXx2hf"
   },
   "source": [
    "# Generating Baseline HASPI Scores\n",
    "\n",
    "The Clarity Enhancement Challenge 2 (CEC2) comes with a simple baseline system against which you can compare your own system's performance. \n",
    "\n",
    "The baseline system has two stages:\n",
    "\n",
    "- **NALR amplification**: Hearing aid amplification using a listener's audiogram and the NALR prescription. \n",
    "- **A compressor**: An automatic gain control (AGC) and compression stage that will output to 16 bit audio without clipping. \n",
    "  \n",
    "Note, this is a very simple baseline designed to act as a starting point, e.g., there is no explicit noise-cancellation front end. \n",
    "\n",
    "Once signals have been processed by the baseline system they can be evaluated using the standard HASPI metric. \n",
    "\n",
    "Recipes (i.e. Python scripts) are provided to allow you to easily process and evaluate the complete development set. These receipes have commandline interfaces and can be found at,\n",
    "\n",
    "```\n",
    "clarity/recipes/cec2/baseline/enhance.py\n",
    "clarity/recipes/cec2/baseline/evaluate.py\n",
    "```\n",
    "\n",
    "This tutorial will walk through the steps being performed in these recipes. We will be using a demo data subset of the full Clarity data, and loading and calling the modules that are invoked in the recipe scripts."
   ]
  },
  {
   "cell_type": "markdown",
   "metadata": {
    "id": "s5QAdrSX_q0i"
   },
   "source": [
    "### Install dependencies\n",
    "\n",
    "We first need to install the Clarity package."
   ]
  },
  {
   "cell_type": "code",
   "execution_count": null,
   "metadata": {
    "id": "stjvW8ON_q0j"
   },
   "outputs": [],
   "source": [
    "print(\"Cloning git repo...\")\n",
    "\n",
    "!git clone --quiet https://github.com/claritychallenge/clarity.git\n",
    "%cd clarity\n",
    "%pip install -e .\n",
    "import os\n",
    "import sys\n",
    "\n",
    "sys.path.append(os.getcwd())\n",
    "%cd .."
   ]
  },
  {
   "cell_type": "markdown",
   "metadata": {
    "id": "NO6DLLDM_q0m"
   },
   "source": [
    "### Install demo data\n",
    "\n",
    "We will be using scene audio and associated metadata. This can be downloaded using the Clarity package's `demo_data` module."
   ]
  },
  {
   "cell_type": "code",
   "execution_count": null,
   "metadata": {
    "id": "d_AtYPIuxwDD"
   },
   "outputs": [],
   "source": [
    "from clarity.data import demo_data\n",
    "\n",
    "demo_data.get_metadata_demo()\n",
    "demo_data.get_scenes_demo()"
   ]
  },
  {
   "cell_type": "markdown",
   "metadata": {
    "id": "n2VFka92_q0n"
   },
   "source": [
    "By default, the demo data will have been downloaded into a directory called `clarity_data`."
   ]
  },
  {
   "cell_type": "markdown",
   "metadata": {
    "id": "5px0mOH8x1Tq"
   },
   "source": [
    "## Running the baseline\n",
    "\n",
    "---\n",
    "\n",
    "### Importing the baseline NALR and Compressor components \n",
    "\n",
    "The baseline enhancer is based on <a href='https://pubmed.ncbi.nlm.nih.gov/3743918/'>NAL-R prescription fitting</a>. Since output signals are required to be in 16-bit integer format, a slow acting automatic gain control is implemented to reduce clipping of the signal introduced by the NAL-R fitting for audiograms which represent more severe hearing loss. The AGC is followed by a soft-clip function.\n",
    "\n",
    "The NAL-R and AGC (compressor) classes can be accessed by importing them from the <code>clarity.enhancer</code> module."
   ]
  },
  {
   "cell_type": "code",
   "execution_count": null,
   "metadata": {
    "id": "QhxhEF0Uvaj8"
   },
   "outputs": [],
   "source": [
    "from clarity.enhancer.compressor import Compressor\n",
    "from clarity.enhancer.nalr import NALR"
   ]
  },
  {
   "cell_type": "markdown",
   "metadata": {
    "id": "RAMaIjLE36l4"
   },
   "source": [
    "### Configuring the NALR and Compressor components\n",
    "\n",
    "To allow for scalable and flexible running on both local and HPC platforms, many Clarity challenge CEC2 scripts and tools depend on <a href='https://hydra.cc/'>hydra</a> and <a href='https://github.com/facebookincubator/submitit'>submitit</a> for the configuration of Python code, for the setting of environment variables such as dataset directories, and for enabling parallisation of Python on both HPC and local machines. (A full description of how hydra and submitit is used in the Clarity challenges is out of the scope of this tutorial).\n",
    "\n",
    "In this notebook, we will be importing the baseline configuration file directly using <code>omegaconf</code>. The module can read a configuration file in YAML format and return a DictConfig object storing the configuration data."
   ]
  },
  {
   "cell_type": "code",
   "execution_count": null,
   "metadata": {
    "id": "FDEhmbS86g3s"
   },
   "outputs": [],
   "source": [
    "from omegaconf import DictConfig, OmegaConf\n",
    "\n",
    "cfg = OmegaConf.load(\"clarity/recipes/cec2/baseline/config.yaml\")\n",
    "assert type(cfg) == DictConfig"
   ]
  },
  {
   "cell_type": "markdown",
   "metadata": {
    "id": "7rrfQE_Y-kXh"
   },
   "source": [
    "We will need to override some of the standard paths provided in the baseline `config.yaml` to enable us to run the baseline on the demo data in this notebook environment.\n",
    "\n",
    "We need to supply:\n",
    "\n",
    "- The root directory of the project data and metadata\n",
    "- The directory of the metadata\n",
    "- The directory of the audio data\n",
    "\n",
    "\n",
    "The default configuration can be overridden by changing the values in the `cfg` object. "
   ]
  },
  {
   "cell_type": "code",
   "execution_count": null,
   "metadata": {
    "id": "WC2pga2Z_kKt"
   },
   "outputs": [],
   "source": [
    "cfg.path[\"root\"] = \"clarity_data/demo\"\n",
    "cfg.path[\"metadata_dir\"] = \"${path.root}/metadata\"\n",
    "cfg.path[\"scenes_folder\"] = \"${path.root}/scenes\""
   ]
  },
  {
   "cell_type": "markdown",
   "metadata": {
    "id": "LQmWPOQhCCj8"
   },
   "source": [
    "(Side note: the Clarity tools come with higher level `recipe` scripts that are designed to be used from the command line. When working with these, default configurations can be overriden by passing command line arguments.)\n",
    "\n",
    "With the configuration modified, we can now instantiate our <code>NALR</code> and <code>Compressor</code> objects."
   ]
  },
  {
   "cell_type": "code",
   "execution_count": null,
   "metadata": {
    "id": "koMNeEy2CdVX"
   },
   "outputs": [],
   "source": [
    "enhancer = NALR(**cfg.nalr)\n",
    "compressor = Compressor(**cfg.compressor)"
   ]
  },
  {
   "cell_type": "markdown",
   "metadata": {
    "id": "9PjbHgS-yJW-"
   },
   "source": [
    "### Selecting a scene and a listener\n",
    "\n",
    "NAL-R fitting involves creating a complementary filterbank that is tuned to the audiogram of a specific listener.\n",
    "\n",
    "For each scene in the Clarity data set, there are three associated listeners that have been randomly selected, i.e., you are told which listeners to process each scene for. Using the right listeners is particularly important when processing the development (and evaluation) data, i.e., to ensure that your results are comparable with those of others.\n",
    "\n",
    "The listener audiogram data and the scene-listener associations are defined in the Clarity metadata.\n",
    "\n",
    "We will first load the scene, targets, listeners and scene_listeners data from the JSON files in which they are stored:"
   ]
  },
  {
   "cell_type": "code",
   "execution_count": null,
   "metadata": {
    "id": "gXySwG8UyIOl"
   },
   "outputs": [],
   "source": [
    "import json\n",
    "\n",
    "with open(\"clarity_data/demo/metadata/scenes.demo.json\") as f:\n",
    "    scene_metadata = json.load(f)\n",
    "\n",
    "with open(\"clarity_data/demo/metadata/listeners.json\") as f:\n",
    "    listeners_metadata = json.load(f)\n",
    "\n",
    "with open(\"clarity_data/demo/metadata/scenes_listeners.dev.json\") as f:\n",
    "    scene_listeners_metadata = json.load(f)"
   ]
  },
  {
   "cell_type": "markdown",
   "metadata": {
    "id": "d0X8JXOr0grB"
   },
   "source": [
    "Next, we will select an individual scene from `scenes_metadata`, find its associated listener's and then find the listener's audiogram data.  \n",
    "\n",
    "So we first choose a scene the the `scene_metadata` list using a `scene_index`, i.e.,\n"
   ]
  },
  {
   "cell_type": "code",
   "execution_count": null,
   "metadata": {
    "id": "qH5y00E4_q0y"
   },
   "outputs": [],
   "source": [
    "scene_index = 2\n",
    "\n",
    "scene = scene_metadata[scene_index]\n",
    "\n",
    "print(scene)"
   ]
  },
  {
   "cell_type": "markdown",
   "metadata": {
    "id": "sUqVY5Oc_q0y"
   },
   "source": [
    "We find the scene's listeners by looking them up in the `scene_listeners_metadata` dict using the scene's `scene_id` as the key."
   ]
  },
  {
   "cell_type": "code",
   "execution_count": null,
   "metadata": {
    "id": "PTGEsnkr_q0z"
   },
   "outputs": [],
   "source": [
    "scene_id = scene[\"scene\"]\n",
    "\n",
    "scene_listeners = scene_listeners_metadata[scene_id]\n",
    "\n",
    "print(scene_listeners)"
   ]
  },
  {
   "cell_type": "markdown",
   "metadata": {
    "id": "tSKkGeKE_q0z"
   },
   "source": [
    "This provides us with the list of `listener_id`s for this scene. \n",
    "\n",
    "We will select one `listener_id` from this list and use it as the key to select the required listener metadata."
   ]
  },
  {
   "cell_type": "code",
   "execution_count": null,
   "metadata": {
    "id": "F7VA8lxY_q0z"
   },
   "outputs": [],
   "source": [
    "listener_choice = 1\n",
    "listener_id = scene_listeners[listener_choice]\n",
    "listener = listeners_metadata[listener_id]"
   ]
  },
  {
   "cell_type": "markdown",
   "metadata": {
    "id": "t0RIN2qW_q00"
   },
   "source": [
    "Each listener metadata entry is a dict containing:\n",
    "\n",
    "- Listener ID\n",
    "- Audiogram centre frequencies\n",
    "- Left ear audiogram hearing levels (dBHL)\n",
    "- Right ear audiogram hearing levels (dBHL)"
   ]
  },
  {
   "cell_type": "code",
   "execution_count": null,
   "metadata": {
    "id": "ejK7ulc41Oa2"
   },
   "outputs": [],
   "source": [
    "print(listener)"
   ]
  },
  {
   "cell_type": "markdown",
   "metadata": {
    "id": "Vn5gT4VZEExs"
   },
   "source": [
    "### Loading the signals to process\n",
    "\n",
    "Next we will load in the scene audio for the scene that we want to process. \n",
    "\n",
    "The path to the scenes audio data is stored in the `cfg.path.scenes_folder` variable and the audio files are named with the scene_id as the prefix and using the format.\n",
    "\n",
    "```\n",
    "<SCENE_ID>_<TYPE>_<CHANNEL>.wav\n",
    "```\n",
    "\n",
    "where `TYPE` can be `mix`, `target`, `interferer` or `interferer_anechoic`, and `CHANNEL` can be `CH1`, `CH2`, `CH3` or `CH0`.\n",
    "\n",
    "The baseline system just uses `CH1` (the front microphone of the hearing aid).\n",
    "\n",
    "Finally, signals are stored as 16-bit integer audio and must be converted to floating point (between -1.0 and 1.0) before use, i.e. by dividing by 2**15.\n",
    "\n",
    "So, using the `wavfile` module from `scipy.io` to read the file, we have, "
   ]
  },
  {
   "cell_type": "code",
   "execution_count": null,
   "metadata": {
    "id": "YMdjWN7KEnua"
   },
   "outputs": [],
   "source": [
    "import os\n",
    "\n",
    "from scipy.io import wavfile\n",
    "\n",
    "fs, signal = wavfile.read(\n",
    "    os.path.join(cfg.path.scenes_folder, f\"{scene_id}_mix_CH1.wav\")\n",
    ")\n",
    "\n",
    "signal = signal / 32768.0"
   ]
  },
  {
   "cell_type": "markdown",
   "metadata": {
    "id": "DsIdAWZu_q02"
   },
   "source": [
    "We can plot the signal to check it looks OK,"
   ]
  },
  {
   "cell_type": "code",
   "execution_count": null,
   "metadata": {
    "id": "73Aog7GM_q02"
   },
   "outputs": [],
   "source": [
    "import matplotlib.pylab as plt\n",
    "\n",
    "plt.plot(signal)"
   ]
  },
  {
   "cell_type": "markdown",
   "metadata": {
    "id": "D9CHEDvTmBrt"
   },
   "source": [
    "### Applying the NALR and Compressor components\n",
    "\n",
    "We will now build the NALR filterbank according to the audiograms of the listener we have selected and apply the filter to the scene signal. This is done separately for the left and right ear (i.e., for each channel of the stereo scene signal).\n"
   ]
  },
  {
   "cell_type": "code",
   "execution_count": null,
   "metadata": {
    "id": "w2oVdfWz4OBW"
   },
   "outputs": [],
   "source": [
    "import numpy as np\n",
    "\n",
    "nalr_fir, _ = enhancer.build(listener[\"audiogram_levels_l\"], listener[\"audiogram_cfs\"])\n",
    "out_l = enhancer.apply(nalr_fir, signal[:, 0])\n",
    "\n",
    "nalr_fir, _ = enhancer.build(listener[\"audiogram_levels_r\"], listener[\"audiogram_cfs\"])\n",
    "out_r = enhancer.apply(nalr_fir, signal[:, 1])\n",
    "\n",
    "plt.plot(out_l)"
   ]
  },
  {
   "cell_type": "markdown",
   "metadata": {
    "id": "uKMPXOO0_q02"
   },
   "source": [
    "Following this, slow AGC is applied and a clip detection pass is performed. A tanh function is applied to remove high frequency distortion components from cliipped samples and the files are converted back to 16-bit integer format for saving."
   ]
  },
  {
   "cell_type": "code",
   "execution_count": null,
   "metadata": {
    "id": "FQVSKaqw_q03"
   },
   "outputs": [],
   "source": [
    "out_l, _, _ = compressor.process(out_l)\n",
    "out_r, _, _ = compressor.process(out_r)\n",
    "\n",
    "enhanced_audio = np.stack([out_l, out_r], axis=1)\n",
    "\n",
    "plt.plot(enhanced_audio)"
   ]
  },
  {
   "cell_type": "markdown",
   "metadata": {
    "id": "b5mhop1F_q03"
   },
   "source": [
    "Finally, the signals are placed through a tanh function which provides a soft-clipping to handle any transient segments that have not been dealt with by the ACG.\n",
    "\n",
    "The final signals are then converted back into 16-bit format."
   ]
  },
  {
   "cell_type": "code",
   "execution_count": null,
   "metadata": {
    "id": "qo5bzfP3_q03"
   },
   "outputs": [],
   "source": [
    "n_clipped = np.sum(np.abs(enhanced_audio) > 1.0)\n",
    "if n_clipped > 0:\n",
    "    print(f\"{n_clipped} samples clipped\")\n",
    "enhanced_audio = np.tanh(enhanced_audio)\n",
    "np.clip(enhanced_audio, -1.0, 1.0, out=enhanced_audio)\n",
    "\n",
    "plt.plot(enhanced_audio)"
   ]
  },
  {
   "cell_type": "markdown",
   "metadata": {
    "id": "hrn8uLJA_q05"
   },
   "source": [
    "Note, processed signals will be submitted as 16-bit wav-file format, i.e. by first converting back to 16-bit integer format and then saving to file.\n",
    "\n",
    "```python\n",
    "signal_16 = (32768.0 * enhanced_audio).astype(np.int16)\n",
    "```\n",
    "\n",
    "The standard filename for the processed audio is constructed as\n",
    "\n",
    "```python\n",
    "filename = f\"{scene['scene']}_{listener['name']}_HA-output.wav\"\n",
    "```"
   ]
  },
  {
   "cell_type": "markdown",
   "metadata": {
    "id": "EYLajowXt191"
   },
   "source": [
    "## Evaluating outputs using HASPI\n",
    "\n",
    "---\n",
    "Enhanced scores can now be evaluated using the HASPI speech intelligibility prediction metric and compared to the unenhanced audio.\n",
    "\n",
    "HASPI scores are calculated using a 'better ear' approach where left and right signals are acalculated and the higher score used as the output.\n",
    "\n",
    "The 'better ear' haspi function (`haspi_v2_be`) is imported from <code>clarity.evaluator.haspi</code>.\n",
    "\n"
   ]
  },
  {
   "cell_type": "code",
   "execution_count": null,
   "metadata": {
    "id": "RPTop_bZ_q05"
   },
   "outputs": [],
   "source": [
    "from clarity.evaluator.haspi import haspi_v2_be"
   ]
  },
  {
   "cell_type": "markdown",
   "metadata": {
    "id": "wzbQI4Y9_q05"
   },
   "source": [
    "HASPI is an intrusive metric and requires an uncorrupted reference signal. These are provided in the scenes audio data as files with the naming convention <code>SXXXX_target_CHX.wav</code>. CH1 is used as the reference transducer for this challenge. We load the file and convert to floating point as before. "
   ]
  },
  {
   "cell_type": "code",
   "execution_count": null,
   "metadata": {
    "id": "UtU6prPN_q06"
   },
   "outputs": [],
   "source": [
    "fs, reference = wavfile.read(\n",
    "    os.path.join(cfg.path.scenes_folder, f\"{scene_id}_target_CH1.wav\")\n",
    ")\n",
    "reference = reference / 32768.0"
   ]
  },
  {
   "cell_type": "markdown",
   "metadata": {
    "id": "zOvGe6Bh_q06"
   },
   "source": [
    "We provide the function <code>haspi_v2_be</code> with the left and right references, the left and right signals, the sample rate and the audiogram information for the given listener. \n",
    "\n",
    "Below, we first compute the HASPI score for the unprocessed signal and then for the enhanced signal. We can compute the benefit of the processing by calculating the difference."
   ]
  },
  {
   "cell_type": "code",
   "execution_count": null,
   "metadata": {
    "id": "YmN0MlvruSMO"
   },
   "outputs": [],
   "source": [
    "sii_unprocessed = haspi_v2_be(\n",
    "    xl=reference[:, 0],\n",
    "    xr=reference[:, 1],\n",
    "    yl=signal[:, 0],\n",
    "    yr=signal[:, 1],\n",
    "    fs_signal=fs,\n",
    "    audiogram_l=listener[\"audiogram_levels_l\"],\n",
    "    audiogram_r=listener[\"audiogram_levels_r\"],\n",
    "    audiogram_cfs=listener[\"audiogram_cfs\"],\n",
    ")\n",
    "\n",
    "sii_enhanced = haspi_v2_be(\n",
    "    xl=reference[:, 0],\n",
    "    xr=reference[:, 1],\n",
    "    yl=enhanced_audio[:, 0],\n",
    "    yr=enhanced_audio[:, 1],\n",
    "    fs_signal=fs,\n",
    "    audiogram_l=listener[\"audiogram_levels_l\"],\n",
    "    audiogram_r=listener[\"audiogram_levels_r\"],\n",
    "    audiogram_cfs=listener[\"audiogram_cfs\"],\n",
    ")\n",
    "\n",
    "print(f\"Original audio HASPI score is {sii_unprocessed}\")\n",
    "\n",
    "print(f\"Enhanced audio HASPI score is {sii_enhanced}\")\n",
    "\n",
    "print(f\"Improvement from processing is {sii_enhanced-sii_unprocessed}\")"
   ]
  },
  {
   "cell_type": "markdown",
   "metadata": {
    "id": "5_ngXkbE_q07"
   },
   "source": [
    "For the scene and listener we have selected the original HASPI score should be about `0.081` and the score after enhancement should be about `0.231`. Note, HASPI uses internal masking noise and because we have not set the random seed, scores may vary a little from run to run - the variation should not be more than `+-0.0005` and often much less. \n",
    "\n",
    "Note also that the 'enhanced' score is still very low - this is not surprising given that the processing is only amplying amplification and compression. There is no noise cancellation, no multichannel processing, etc, etc. The purpose of the enhancement challenge is to add these components in order to try and improve on this baseline.\n",
    "\n",
    "Good luck!"
   ]
  }
 ],
 "metadata": {
  "colab": {
   "collapsed_sections": [],
   "name": "Baseline_HASPI_scores.ipynb",
   "provenance": []
  },
  "interpreter": {
   "hash": "26a964e4f4fac737099b8cac5ce06700d7df701944a9ffdf70bdbb694454ecd1"
  },
  "kernelspec": {
   "display_name": "Python 3.7.13 64-bit ('3.7.13')",
   "language": "python",
   "name": "python3"
  },
  "language_info": {
   "codemirror_mode": {
    "name": "ipython",
    "version": 3
   },
   "file_extension": ".py",
   "mimetype": "text/x-python",
   "name": "python",
   "nbconvert_exporter": "python",
   "pygments_lexer": "ipython3",
   "version": "3.7.13"
  }
 },
 "nbformat": 4,
 "nbformat_minor": 0
}
