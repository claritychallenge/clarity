{
 "cells": [
  {
   "cell_type": "markdown",
   "metadata": {
    "id": "QbHa-xsgo1dX"
   },
   "source": [
    "# Using the Shell Interface\n",
    "\n",
    "The tools and recipes included in the <a href = 'https://github.com/claritychallenge/clarity'>clarity challenge repository</a> have been designed so that they can be integrated into python scripts that entrants may use in order to generate custom datasets or to expand the default datasets using new audio or varying data creation parameters. However, for convenience, the baseline clarity tools can be accessed in the command line interface (CLI) via shell scripts. \n",
    "\n",
    "The python and shell scripts included in the repository make use of <a href='https://hydra.cc/'>Hydra</a> and <a href='https://hydra.cc/docs/plugins/submitit_launcher/'>Submitit</a>, two technologies which streamline the configuration and parallel operation of python code on both local and high performnce computing (HPC) environments.\n",
    "\n",
    "The use of hydra for configuration allows for the existing shell scripts to be easily redirected to include new audio data and modify the various parameters of the data generation scripts such as output directory, interferer counts, HRTF dataset locations, target onset timing, head rotation parameters and more."
   ]
  },
  {
   "cell_type": "markdown",
   "metadata": {
    "id": "fm5JiQz_s04F"
   },
   "source": [
    "## Setting the Location of the Project\n",
    "\n",
    "For convenience, we are setting an environment variable with the location of the root working directory of the project. This variable wll be used in various places throughout the tutorial. Please change this value to reflect where you have installed this notebook on your system. \n"
   ]
  },
  {
   "cell_type": "code",
   "execution_count": null,
   "metadata": {
    "colab": {
     "base_uri": "https://localhost:8080/"
    },
    "executionInfo": {
     "elapsed": 11,
     "status": "ok",
     "timestamp": 1657809058389,
     "user": {
      "displayName": "Will Bailey",
      "userId": "06415600982969273693"
     },
     "user_tz": -60
    },
    "id": "yQ4nLvzcsyME",
    "outputId": "4b92d885-caa5-4ef2-982f-4e4a03e18cca"
   },
   "outputs": [],
   "source": [
    "\n",
    "%env NBOOKROOT=/content"
   ]
  },
  {
   "cell_type": "markdown",
   "metadata": {
    "id": "dq-rTf5IuVgT"
   },
   "source": [
    "## Cloning the Clarity Repository\n",
    "We first need to install the Clarity package."
   ]
  },
  {
   "cell_type": "code",
   "execution_count": null,
   "metadata": {
    "colab": {
     "base_uri": "https://localhost:8080/"
    },
    "executionInfo": {
     "elapsed": 13454,
     "status": "ok",
     "timestamp": 1657809071834,
     "user": {
      "displayName": "Will Bailey",
      "userId": "06415600982969273693"
     },
     "user_tz": -60
    },
    "id": "uG3EUi8ds0_3",
    "outputId": "646089e2-ab1b-4dec-88af-398cd5e851cb"
   },
   "outputs": [],
   "source": [
    "import os\n",
    "import sys\n",
    "\n",
    "from IPython.display import clear_output\n",
    "\n",
    "print(\"Cloning git repo...\")\n",
    "!git clone --quiet https://github.com/claritychallenge/clarity.git\n",
    "%cd clarity\n",
    "%pip install -e .\n",
    "\n",
    "sys.path.append(f'{os.getenv(\"NBOOKROOT\")}/clarity')\n",
    "\n",
    "clear_output()\n",
    "print(\"Repository installed\")"
   ]
  },
  {
   "cell_type": "markdown",
   "metadata": {
    "id": "ISVA94L-u0ce"
   },
   "source": [
    "## Install demo data\n",
    "\n",
    "We will be using scene audio and associated metadata. These can be downloaded using the Clarity package's `demo_data` module."
   ]
  },
  {
   "cell_type": "code",
   "execution_count": null,
   "metadata": {
    "colab": {
     "base_uri": "https://localhost:8080/"
    },
    "executionInfo": {
     "elapsed": 15388,
     "status": "ok",
     "timestamp": 1657809087214,
     "user": {
      "displayName": "Will Bailey",
      "userId": "06415600982969273693"
     },
     "user_tz": -60
    },
    "id": "nZqBze-1u5dj",
    "outputId": "f6d770a8-53c8-4e7c-dd1b-974f761ddfc1"
   },
   "outputs": [],
   "source": [
    "from clarity.data import demo_data\n",
    "\n",
    "%cd ../\n",
    "demo_data.get_metadata_demo()\n",
    "demo_data.get_scenes_demo()\n",
    "\n",
    "\n",
    "clear_output()\n",
    "print(\"Data installed\")"
   ]
  },
  {
   "cell_type": "markdown",
   "metadata": {
    "id": "DKwjWDGkvGr9"
   },
   "source": [
    "## Changing working Directory\n",
    "\n",
    "Next, we change working directory to the location of the shell scripts we wish to run."
   ]
  },
  {
   "cell_type": "code",
   "execution_count": null,
   "metadata": {
    "colab": {
     "base_uri": "https://localhost:8080/",
     "height": 53
    },
    "executionInfo": {
     "elapsed": 42,
     "status": "ok",
     "timestamp": 1657809087222,
     "user": {
      "displayName": "Will Bailey",
      "userId": "06415600982969273693"
     },
     "user_tz": -60
    },
    "id": "26v1ZfvJQqZX",
    "outputId": "677f6be3-5549-4195-85a5-cf0dc426d1ba"
   },
   "outputs": [],
   "source": [
    "%cd {os.environ['NBOOKROOT']}/clarity/recipes/cec2/baseline\n",
    "%pwd"
   ]
  },
  {
   "cell_type": "markdown",
   "metadata": {
    "id": "Uaw7IqFX3TZc"
   },
   "source": [
    "## Inspecting Existing Configuration\n",
    "\n",
    "All of the included shell scripts take configurable variables from the yaml files in the same directory as the shell script.Typically these are named <code>config.yaml</code>, however, other names may be used if more than one shell script is in a directory.\n",
    "\n",
    "We can inspect the contents of the config file using <code>!cat</code>:"
   ]
  },
  {
   "cell_type": "code",
   "execution_count": null,
   "metadata": {
    "colab": {
     "base_uri": "https://localhost:8080/"
    },
    "executionInfo": {
     "elapsed": 395,
     "status": "ok",
     "timestamp": 1657809087594,
     "user": {
      "displayName": "Will Bailey",
      "userId": "06415600982969273693"
     },
     "user_tz": -60
    },
    "id": "KSRPIM5_fYag",
    "outputId": "d3fe37f3-e18e-40aa-bc37-2f153fd558c0"
   },
   "outputs": [],
   "source": [
    "!cat config.yaml"
   ]
  },
  {
   "cell_type": "markdown",
   "metadata": {
    "id": "HWVlLrVZ4aMU"
   },
   "source": [
    "The general organisation of the config files is hierarchical, with property labels depending on the script in question. The config file for the enhance and evaluate recipes contains configurable paramaters for both scripts. These include:\n",
    "- Paths for the locations of audio files, metadata and the export location for generated files\n",
    "- Paramaters for the NAL-R fitting\n",
    "- Paramaters for the automatic gain control (AGC) compressor used in the baseline enhancer\n",
    "- Parameters for the challenge evaluator\n",
    "- Parameters necessary for Hydra to run\n",
    "\n",
    "The path.root parameter defaults to a null value (<code>???</code>) and must be overrided with a dataset root path when the python script is called in the command line.\n",
    "\n",
    "e.g\n",
    "\n",
    "```\n",
    "user:~$ python mypythonscript.py path.root='/path/to/project' \n",
    "```\n",
    "\n",
    "In this notebooke we will use the environment variable <code>$NBOOKROOT</code> which we defined at the start of the tutorial.\n",
    "\n",
    "Note the lack of slash at the end of the <code>path.root</code> argument string. If you inspect a variable such as <code>path.metadata_dir</code> you will see that this slash is already included in the line.\n",
    "\n",
    "```\n",
    "path:\n",
    "  root: ???\n",
    "  metadata_dir: ${path.root}/clarity_data/metadata\n",
    "\n",
    "```"
   ]
  },
  {
   "cell_type": "markdown",
   "metadata": {
    "id": "9okiNWo58vid"
   },
   "source": [
    "The general form for overriding a parameter in the CLI is dot indexed. For the following entry in a <code>config.yaml</code> file:\n",
    "```\n",
    "A:\n",
    "  B:\n",
    "    parameter_0: some_value\n",
    "    parameter_1: some_other_value\n",
    "```\n",
    "The CLI syntax to override those values would be:\n",
    "\n",
    "```\n",
    "User:~$ python myscript.py A.B.parameter_0=\"new_value\" A.B.parameter_1=\"another_new_value\"\n",
    "```"
   ]
  },
  {
   "cell_type": "markdown",
   "metadata": {
    "id": "9ZPuP-k8EQZV"
   },
   "source": [
    "## Shell Scripts \n",
    "\n",
    "Typically, as stated above, all the work is done within python with configurable variables supplied by a <code>yaml</code> file which is parsed by Hydra inside the python code. \n",
    "\n",
    "The execution of this code is performed in the CLI and new configuration variable values are supplied as arguments to override defaults. \n"
   ]
  },
  {
   "cell_type": "markdown",
   "metadata": {
    "id": "4HWyWIUbHd_0"
   },
   "source": [
    "---\n",
    "### Additional steps for Colab Notebooks\n",
    "This version of this tutorial is designed to run on Google Colab. The editable installation of the clarity repository is by default not visible to the python interpreter in this environment, even though the installation cell above makes the clarity tools visible to the iPython interpreter. \n",
    "\n",
    "As such, we need to make sure that the standard python interpreter called in the shell magic that follows below has the location of the clarity packages in the PYTHONPATH variable.\n",
    "\n",
    "For local environments, this step may not be necessary."
   ]
  },
  {
   "cell_type": "code",
   "execution_count": null,
   "metadata": {
    "colab": {
     "base_uri": "https://localhost:8080/"
    },
    "executionInfo": {
     "elapsed": 11,
     "status": "ok",
     "timestamp": 1657809087595,
     "user": {
      "displayName": "Will Bailey",
      "userId": "06415600982969273693"
     },
     "user_tz": -60
    },
    "id": "ocaWdqybFhJE",
    "outputId": "21fee0ac-fccd-439e-ee18-d65f6f8a60ae"
   },
   "outputs": [],
   "source": [
    "%env PYTHONPATH=$PYTHONPATH:/content/clarity"
   ]
  },
  {
   "cell_type": "markdown",
   "metadata": {
    "id": "ufWVUVG586fk"
   },
   "source": [
    "---\n",
    "We are now ready to run the prepared python script. However, the standard configuration is designed to work with the full clarity dataset. We can redirect the script to the correct folers by overriding the appropriate configuration parameters."
   ]
  },
  {
   "cell_type": "code",
   "execution_count": null,
   "metadata": {
    "id": "4bArPjR8Q3jF"
   },
   "outputs": [],
   "source": [
    "%%shell\n",
    "python enhance.py \\\n",
    "path.root=$NBOOKROOT \\\n",
    "path.metadata_dir=\"$\\{path.root\\}/clarity_data/demo/metadata\" \\\n",
    "path.scenes_listeners_file=\"$\\{path.metadata_dir\\}/scenes_listeners.demo.json\" \\\n",
    "path.listeners_file=\"$\\{path.metadata_dir\\}/listeners.json\" \\\n",
    "path.scenes_folder=\"$\\{path.root\\}/clarity_data/demo/scenes\" \n"
   ]
  },
  {
   "cell_type": "markdown",
   "metadata": {
    "id": "yj2VLn5fCn2C"
   },
   "source": [
    "Now we have the enhanced output. Below, we can load and play the audio to listen to examples of the results."
   ]
  },
  {
   "cell_type": "code",
   "execution_count": null,
   "metadata": {
    "colab": {
     "base_uri": "https://localhost:8080/",
     "height": 93
    },
    "executionInfo": {
     "elapsed": 3855,
     "status": "ok",
     "timestamp": 1657809202469,
     "user": {
      "displayName": "Will Bailey",
      "userId": "06415600982969273693"
     },
     "user_tz": -60
    },
    "id": "s_PoO4h43rmR",
    "outputId": "ff5b26a9-0c5b-49c8-cf80-9fae7b3bd30d"
   },
   "outputs": [],
   "source": [
    "from os import listdir\n",
    "from os.path import isfile, join\n",
    "\n",
    "import IPython.display as ipd\n",
    "\n",
    "audio_path = \"exp/exp/enhanced_signals\"\n",
    "audio_files = [f for f in listdir(audio_path) if isfile(join(audio_path, f))]\n",
    "\n",
    "file_to_play = join(audio_path, audio_files[0])\n",
    "print(file_to_play)\n",
    "ipd.Audio(file_to_play)"
   ]
  },
  {
   "cell_type": "markdown",
   "metadata": {
    "id": "p-FreFedIcGc"
   },
   "source": [
    "Now we have enhanced audio we can use the evaluate recipe to generate HASPI scores for the signals. The evaluation is run in the same manner as the enhancement script."
   ]
  },
  {
   "cell_type": "code",
   "execution_count": null,
   "metadata": {
    "id": "Y2VZKna9L-eM"
   },
   "outputs": [],
   "source": [
    "%%shell\n",
    "python evaluate.py \\\n",
    "path.root=$NBOOKROOT \\\n",
    "path.metadata_dir=\"$\\{path.root\\}/clarity_data/demo/metadata\" \\\n",
    "path.scenes_listeners_file=\"$\\{path.metadata_dir\\}/scenes_listeners.demo.json\" \\\n",
    "path.listeners_file=\"$\\{path.metadata_dir\\}/listeners.json\" \\\n",
    "path.scenes_folder=\"$\\{path.root\\}/clarity_data/demo/scenes\" \n",
    "\n"
   ]
  },
  {
   "cell_type": "markdown",
   "metadata": {
    "id": "d57yl1Y7WbrD"
   },
   "source": [
    "Now the HASPI scores have been generated, it is possible to plot the results to assess the improvement imparted by the signal processing"
   ]
  },
  {
   "cell_type": "code",
   "execution_count": null,
   "metadata": {
    "colab": {
     "base_uri": "https://localhost:8080/",
     "height": 281
    },
    "executionInfo": {
     "elapsed": 524,
     "status": "ok",
     "timestamp": 1657814006908,
     "user": {
      "displayName": "Will Bailey",
      "userId": "06415600982969273693"
     },
     "user_tz": -60
    },
    "id": "pLPw-y6UWSSR",
    "outputId": "34d0132c-4212-4ee0-803a-500a88330e13"
   },
   "outputs": [],
   "source": [
    "import numpy as np\n",
    "import pandas as pd\n",
    "from matplotlib import pyplot as plt\n",
    "\n",
    "unprocessed_si = pd.read_csv(\"exp/exp/si.csv\")\n",
    "\n",
    "processed_si = pd.read_csv(\"exp/exp/si_unproc.csv\")\n",
    "\n",
    "data = np.array([processed_si.loc[:, \"haspi\"], unprocessed_si.loc[:, \"haspi\"]])\n",
    "plt.boxplot(np.transpose(data))\n",
    "plt.title(\"HASPI Scores\")\n",
    "plt.xticks([1, 2], [\"Unprocessed\", \"Processed\"])\n",
    "plt.show()"
   ]
  },
  {
   "cell_type": "markdown",
   "metadata": {
    "id": "xhDfjwHcfDR4"
   },
   "source": [
    "We hope that this tutorial has been useful and has explained the process for using the recipe scripts using the Hydra configuration system. This approach can be applied to all of the CEC2 recipes that are included in the repository."
   ]
  }
 ],
 "metadata": {
  "colab": {
   "authorship_tag": "ABX9TyOtdhNX2LZrNJmPONMzyJ/P",
   "collapsed_sections": [],
   "name": "Shell_interface-running_the_enhancer.ipynb",
   "provenance": [
    {
     "file_id": "1kujWCVXJ5uegF084680Vhjn43v951i62",
     "timestamp": 1657536413135
    }
   ]
  },
  "kernelspec": {
   "display_name": "Python 3",
   "name": "python3"
  },
  "language_info": {
   "name": "python"
  }
 },
 "nbformat": 4,
 "nbformat_minor": 0
}
